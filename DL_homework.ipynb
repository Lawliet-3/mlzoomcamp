{
 "cells": [
  {
   "cell_type": "code",
   "execution_count": 3,
   "id": "7ed63a59-054a-448c-9e0d-1a925f52d341",
   "metadata": {
    "execution": {
     "iopub.execute_input": "2024-12-04T09:21:04.314691Z",
     "iopub.status.busy": "2024-12-04T09:21:04.314337Z",
     "iopub.status.idle": "2024-12-04T09:21:09.415888Z",
     "shell.execute_reply": "2024-12-04T09:21:09.415360Z",
     "shell.execute_reply.started": "2024-12-04T09:21:04.314665Z"
    }
   },
   "outputs": [
    {
     "name": "stderr",
     "output_type": "stream",
     "text": [
      "2024-12-04 09:21:04.688251: I tensorflow/core/util/port.cc:153] oneDNN custom operations are on. You may see slightly different numerical results due to floating-point round-off errors from different computation orders. To turn them off, set the environment variable `TF_ENABLE_ONEDNN_OPTS=0`.\n",
      "2024-12-04 09:21:04.706765: E external/local_xla/xla/stream_executor/cuda/cuda_fft.cc:477] Unable to register cuFFT factory: Attempting to register factory for plugin cuFFT when one has already been registered\n",
      "WARNING: All log messages before absl::InitializeLog() is called are written to STDERR\n",
      "E0000 00:00:1733304064.725048     225 cuda_dnn.cc:8310] Unable to register cuDNN factory: Attempting to register factory for plugin cuDNN when one has already been registered\n",
      "E0000 00:00:1733304064.730459     225 cuda_blas.cc:1418] Unable to register cuBLAS factory: Attempting to register factory for plugin cuBLAS when one has already been registered\n",
      "2024-12-04 09:21:04.750297: I tensorflow/core/platform/cpu_feature_guard.cc:210] This TensorFlow binary is optimized to use available CPU instructions in performance-critical operations.\n",
      "To enable the following instructions: AVX2 AVX512F AVX512_VNNI FMA, in other operations, rebuild TensorFlow with the appropriate compiler flags.\n"
     ]
    }
   ],
   "source": [
    "import numpy as np\n",
    "import tensorflow as tf\n",
    "\n",
    "SEED = 42\n",
    "np.random.seed(SEED)\n",
    "tf.random.set_seed(SEED)"
   ]
  },
  {
   "cell_type": "code",
   "execution_count": 4,
   "id": "f85a1d0f-d6ce-4e0d-a883-429b4cab9381",
   "metadata": {
    "execution": {
     "iopub.execute_input": "2024-12-04T09:21:21.361040Z",
     "iopub.status.busy": "2024-12-04T09:21:21.360103Z",
     "iopub.status.idle": "2024-12-04T09:21:21.388484Z",
     "shell.execute_reply": "2024-12-04T09:21:21.387947Z",
     "shell.execute_reply.started": "2024-12-04T09:21:21.361004Z"
    }
   },
   "outputs": [],
   "source": [
    "import numpy as np\n",
    "import matplotlib.pyplot as plt\n",
    "\n",
    "%matplotlib inline\n",
    "\n",
    "import tensorflow as tf\n",
    "from tensorflow import keras\n",
    "from tensorflow.keras.preprocessing.image import load_img\n",
    "\n",
    "from tensorflow.keras.preprocessing.image import ImageDataGenerator"
   ]
  },
  {
   "cell_type": "code",
   "execution_count": 5,
   "id": "1c74bb53-398c-424a-a9f8-ddb5a5a6e88c",
   "metadata": {
    "execution": {
     "iopub.execute_input": "2024-12-04T09:21:39.680124Z",
     "iopub.status.busy": "2024-12-04T09:21:39.679797Z",
     "iopub.status.idle": "2024-12-04T09:21:39.684661Z",
     "shell.execute_reply": "2024-12-04T09:21:39.684009Z",
     "shell.execute_reply.started": "2024-12-04T09:21:39.680101Z"
    }
   },
   "outputs": [],
   "source": [
    "def create_model(input_size=200, learning_rate=0.002):\n",
    "    inputs  = keras.Input(shape=(input_size, input_size, 3))\n",
    "    conv    = keras.layers.Conv2D(32, (3, 3), activation='relu')(inputs)\n",
    "    vectors = keras.layers.MaxPooling2D(pool_size=(2, 2))(conv)\n",
    "    flat    = keras.layers.Flatten()(vectors)\n",
    "    inner   = keras.layers.Dense(64, activation='relu')(flat)\n",
    "    output  = keras.layers.Dense(1, activation='sigmoid')(inner)\n",
    "\n",
    "    model = keras.Model(inputs, output)\n",
    "\n",
    "    optimizer = keras.optimizers.SGD(learning_rate=learning_rate, momentum=0.8)\n",
    "    loss = keras.losses.BinaryCrossentropy()\n",
    "\n",
    "    model.compile(\n",
    "        optimizer=optimizer,\n",
    "        loss=loss,\n",
    "        metrics=['accuracy']\n",
    "    )\n",
    "\n",
    "    return model"
   ]
  },
  {
   "cell_type": "code",
   "execution_count": 23,
   "id": "5071e2b4-283a-4d77-8f34-aa08edcee55b",
   "metadata": {
    "execution": {
     "iopub.execute_input": "2024-12-04T09:49:38.594629Z",
     "iopub.status.busy": "2024-12-04T09:49:38.594298Z",
     "iopub.status.idle": "2024-12-04T09:49:38.676390Z",
     "shell.execute_reply": "2024-12-04T09:49:38.675879Z",
     "shell.execute_reply.started": "2024-12-04T09:49:38.594606Z"
    }
   },
   "outputs": [],
   "source": [
    "model = create_model()"
   ]
  },
  {
   "cell_type": "code",
   "execution_count": 8,
   "id": "356b1e73-49db-4603-bfc7-c13e605ce25e",
   "metadata": {
    "execution": {
     "iopub.execute_input": "2024-12-04T09:23:30.814545Z",
     "iopub.status.busy": "2024-12-04T09:23:30.814233Z",
     "iopub.status.idle": "2024-12-04T09:23:30.829288Z",
     "shell.execute_reply": "2024-12-04T09:23:30.828824Z",
     "shell.execute_reply.started": "2024-12-04T09:23:30.814522Z"
    }
   },
   "outputs": [
    {
     "data": {
      "text/html": [
       "<pre style=\"white-space:pre;overflow-x:auto;line-height:normal;font-family:Menlo,'DejaVu Sans Mono',consolas,'Courier New',monospace\"><span style=\"font-weight: bold\">Model: \"functional_1\"</span>\n",
       "</pre>\n"
      ],
      "text/plain": [
       "\u001b[1mModel: \"functional_1\"\u001b[0m\n"
      ]
     },
     "metadata": {},
     "output_type": "display_data"
    },
    {
     "data": {
      "text/html": [
       "<pre style=\"white-space:pre;overflow-x:auto;line-height:normal;font-family:Menlo,'DejaVu Sans Mono',consolas,'Courier New',monospace\">┏━━━━━━━━━━━━━━━━━━━━━━━━━━━━━━━━━┳━━━━━━━━━━━━━━━━━━━━━━━━┳━━━━━━━━━━━━━━━┓\n",
       "┃<span style=\"font-weight: bold\"> Layer (type)                    </span>┃<span style=\"font-weight: bold\"> Output Shape           </span>┃<span style=\"font-weight: bold\">       Param # </span>┃\n",
       "┡━━━━━━━━━━━━━━━━━━━━━━━━━━━━━━━━━╇━━━━━━━━━━━━━━━━━━━━━━━━╇━━━━━━━━━━━━━━━┩\n",
       "│ input_layer_1 (<span style=\"color: #0087ff; text-decoration-color: #0087ff\">InputLayer</span>)      │ (<span style=\"color: #00d7ff; text-decoration-color: #00d7ff\">None</span>, <span style=\"color: #00af00; text-decoration-color: #00af00\">200</span>, <span style=\"color: #00af00; text-decoration-color: #00af00\">200</span>, <span style=\"color: #00af00; text-decoration-color: #00af00\">3</span>)    │             <span style=\"color: #00af00; text-decoration-color: #00af00\">0</span> │\n",
       "├─────────────────────────────────┼────────────────────────┼───────────────┤\n",
       "│ conv2d_1 (<span style=\"color: #0087ff; text-decoration-color: #0087ff\">Conv2D</span>)               │ (<span style=\"color: #00d7ff; text-decoration-color: #00d7ff\">None</span>, <span style=\"color: #00af00; text-decoration-color: #00af00\">198</span>, <span style=\"color: #00af00; text-decoration-color: #00af00\">198</span>, <span style=\"color: #00af00; text-decoration-color: #00af00\">32</span>)   │           <span style=\"color: #00af00; text-decoration-color: #00af00\">896</span> │\n",
       "├─────────────────────────────────┼────────────────────────┼───────────────┤\n",
       "│ max_pooling2d_1 (<span style=\"color: #0087ff; text-decoration-color: #0087ff\">MaxPooling2D</span>)  │ (<span style=\"color: #00d7ff; text-decoration-color: #00d7ff\">None</span>, <span style=\"color: #00af00; text-decoration-color: #00af00\">99</span>, <span style=\"color: #00af00; text-decoration-color: #00af00\">99</span>, <span style=\"color: #00af00; text-decoration-color: #00af00\">32</span>)     │             <span style=\"color: #00af00; text-decoration-color: #00af00\">0</span> │\n",
       "├─────────────────────────────────┼────────────────────────┼───────────────┤\n",
       "│ flatten_1 (<span style=\"color: #0087ff; text-decoration-color: #0087ff\">Flatten</span>)             │ (<span style=\"color: #00d7ff; text-decoration-color: #00d7ff\">None</span>, <span style=\"color: #00af00; text-decoration-color: #00af00\">313632</span>)         │             <span style=\"color: #00af00; text-decoration-color: #00af00\">0</span> │\n",
       "├─────────────────────────────────┼────────────────────────┼───────────────┤\n",
       "│ dense_2 (<span style=\"color: #0087ff; text-decoration-color: #0087ff\">Dense</span>)                 │ (<span style=\"color: #00d7ff; text-decoration-color: #00d7ff\">None</span>, <span style=\"color: #00af00; text-decoration-color: #00af00\">64</span>)             │    <span style=\"color: #00af00; text-decoration-color: #00af00\">20,072,512</span> │\n",
       "├─────────────────────────────────┼────────────────────────┼───────────────┤\n",
       "│ dense_3 (<span style=\"color: #0087ff; text-decoration-color: #0087ff\">Dense</span>)                 │ (<span style=\"color: #00d7ff; text-decoration-color: #00d7ff\">None</span>, <span style=\"color: #00af00; text-decoration-color: #00af00\">1</span>)              │            <span style=\"color: #00af00; text-decoration-color: #00af00\">65</span> │\n",
       "└─────────────────────────────────┴────────────────────────┴───────────────┘\n",
       "</pre>\n"
      ],
      "text/plain": [
       "┏━━━━━━━━━━━━━━━━━━━━━━━━━━━━━━━━━┳━━━━━━━━━━━━━━━━━━━━━━━━┳━━━━━━━━━━━━━━━┓\n",
       "┃\u001b[1m \u001b[0m\u001b[1mLayer (type)                   \u001b[0m\u001b[1m \u001b[0m┃\u001b[1m \u001b[0m\u001b[1mOutput Shape          \u001b[0m\u001b[1m \u001b[0m┃\u001b[1m \u001b[0m\u001b[1m      Param #\u001b[0m\u001b[1m \u001b[0m┃\n",
       "┡━━━━━━━━━━━━━━━━━━━━━━━━━━━━━━━━━╇━━━━━━━━━━━━━━━━━━━━━━━━╇━━━━━━━━━━━━━━━┩\n",
       "│ input_layer_1 (\u001b[38;5;33mInputLayer\u001b[0m)      │ (\u001b[38;5;45mNone\u001b[0m, \u001b[38;5;34m200\u001b[0m, \u001b[38;5;34m200\u001b[0m, \u001b[38;5;34m3\u001b[0m)    │             \u001b[38;5;34m0\u001b[0m │\n",
       "├─────────────────────────────────┼────────────────────────┼───────────────┤\n",
       "│ conv2d_1 (\u001b[38;5;33mConv2D\u001b[0m)               │ (\u001b[38;5;45mNone\u001b[0m, \u001b[38;5;34m198\u001b[0m, \u001b[38;5;34m198\u001b[0m, \u001b[38;5;34m32\u001b[0m)   │           \u001b[38;5;34m896\u001b[0m │\n",
       "├─────────────────────────────────┼────────────────────────┼───────────────┤\n",
       "│ max_pooling2d_1 (\u001b[38;5;33mMaxPooling2D\u001b[0m)  │ (\u001b[38;5;45mNone\u001b[0m, \u001b[38;5;34m99\u001b[0m, \u001b[38;5;34m99\u001b[0m, \u001b[38;5;34m32\u001b[0m)     │             \u001b[38;5;34m0\u001b[0m │\n",
       "├─────────────────────────────────┼────────────────────────┼───────────────┤\n",
       "│ flatten_1 (\u001b[38;5;33mFlatten\u001b[0m)             │ (\u001b[38;5;45mNone\u001b[0m, \u001b[38;5;34m313632\u001b[0m)         │             \u001b[38;5;34m0\u001b[0m │\n",
       "├─────────────────────────────────┼────────────────────────┼───────────────┤\n",
       "│ dense_2 (\u001b[38;5;33mDense\u001b[0m)                 │ (\u001b[38;5;45mNone\u001b[0m, \u001b[38;5;34m64\u001b[0m)             │    \u001b[38;5;34m20,072,512\u001b[0m │\n",
       "├─────────────────────────────────┼────────────────────────┼───────────────┤\n",
       "│ dense_3 (\u001b[38;5;33mDense\u001b[0m)                 │ (\u001b[38;5;45mNone\u001b[0m, \u001b[38;5;34m1\u001b[0m)              │            \u001b[38;5;34m65\u001b[0m │\n",
       "└─────────────────────────────────┴────────────────────────┴───────────────┘\n"
      ]
     },
     "metadata": {},
     "output_type": "display_data"
    },
    {
     "data": {
      "text/html": [
       "<pre style=\"white-space:pre;overflow-x:auto;line-height:normal;font-family:Menlo,'DejaVu Sans Mono',consolas,'Courier New',monospace\"><span style=\"font-weight: bold\"> Total params: </span><span style=\"color: #00af00; text-decoration-color: #00af00\">20,073,473</span> (76.57 MB)\n",
       "</pre>\n"
      ],
      "text/plain": [
       "\u001b[1m Total params: \u001b[0m\u001b[38;5;34m20,073,473\u001b[0m (76.57 MB)\n"
      ]
     },
     "metadata": {},
     "output_type": "display_data"
    },
    {
     "data": {
      "text/html": [
       "<pre style=\"white-space:pre;overflow-x:auto;line-height:normal;font-family:Menlo,'DejaVu Sans Mono',consolas,'Courier New',monospace\"><span style=\"font-weight: bold\"> Trainable params: </span><span style=\"color: #00af00; text-decoration-color: #00af00\">20,073,473</span> (76.57 MB)\n",
       "</pre>\n"
      ],
      "text/plain": [
       "\u001b[1m Trainable params: \u001b[0m\u001b[38;5;34m20,073,473\u001b[0m (76.57 MB)\n"
      ]
     },
     "metadata": {},
     "output_type": "display_data"
    },
    {
     "data": {
      "text/html": [
       "<pre style=\"white-space:pre;overflow-x:auto;line-height:normal;font-family:Menlo,'DejaVu Sans Mono',consolas,'Courier New',monospace\"><span style=\"font-weight: bold\"> Non-trainable params: </span><span style=\"color: #00af00; text-decoration-color: #00af00\">0</span> (0.00 B)\n",
       "</pre>\n"
      ],
      "text/plain": [
       "\u001b[1m Non-trainable params: \u001b[0m\u001b[38;5;34m0\u001b[0m (0.00 B)\n"
      ]
     },
     "metadata": {},
     "output_type": "display_data"
    }
   ],
   "source": [
    "model.summary()"
   ]
  },
  {
   "cell_type": "code",
   "execution_count": 9,
   "id": "afb6e84d-f0bb-45f2-a7db-1ad7b331ae91",
   "metadata": {
    "execution": {
     "iopub.execute_input": "2024-12-04T09:24:29.854478Z",
     "iopub.status.busy": "2024-12-04T09:24:29.854139Z",
     "iopub.status.idle": "2024-12-04T09:24:29.893111Z",
     "shell.execute_reply": "2024-12-04T09:24:29.892571Z",
     "shell.execute_reply.started": "2024-12-04T09:24:29.854454Z"
    }
   },
   "outputs": [
    {
     "name": "stdout",
     "output_type": "stream",
     "text": [
      "Found 800 images belonging to 2 classes.\n",
      "Found 201 images belonging to 2 classes.\n"
     ]
    }
   ],
   "source": [
    "datagen = ImageDataGenerator(rescale=1./255)\n",
    "\n",
    "train_generator = datagen.flow_from_directory(\n",
    "    './data/train',\n",
    "    target_size=(200, 200),\n",
    "    batch_size=20,\n",
    "    class_mode='binary',\n",
    "    shuffle=True\n",
    ")\n",
    "\n",
    "test_generator = datagen.flow_from_directory(\n",
    "    './data/test',\n",
    "    target_size=(200, 200),\n",
    "    batch_size=20,\n",
    "    class_mode='binary',\n",
    "    shuffle=True\n",
    ")"
   ]
  },
  {
   "cell_type": "code",
   "execution_count": 39,
   "id": "51a84f97-951f-4099-801f-66c81dd3892c",
   "metadata": {
    "execution": {
     "iopub.execute_input": "2024-12-04T10:09:48.440862Z",
     "iopub.status.busy": "2024-12-04T10:09:48.440481Z",
     "iopub.status.idle": "2024-12-04T10:09:48.445386Z",
     "shell.execute_reply": "2024-12-04T10:09:48.444716Z",
     "shell.execute_reply.started": "2024-12-04T10:09:48.440826Z"
    }
   },
   "outputs": [],
   "source": [
    "checkpoint = keras.callbacks.ModelCheckpoint(\n",
    "    'model_{epoch:02d}_{val_accuracy:.3f}.keras',\n",
    "    save_best_only=True,\n",
    "    monitor='val_accuracy',\n",
    "    mode='max',\n",
    ")"
   ]
  },
  {
   "cell_type": "code",
   "execution_count": 40,
   "id": "38207c0c-884f-4406-a14c-4576b6820e48",
   "metadata": {
    "execution": {
     "iopub.execute_input": "2024-12-04T10:09:50.295003Z",
     "iopub.status.busy": "2024-12-04T10:09:50.294643Z",
     "iopub.status.idle": "2024-12-04T10:12:16.759126Z",
     "shell.execute_reply": "2024-12-04T10:12:16.758624Z",
     "shell.execute_reply.started": "2024-12-04T10:09:50.294979Z"
    }
   },
   "outputs": [
    {
     "name": "stdout",
     "output_type": "stream",
     "text": [
      "Epoch 1/10\n",
      "\u001b[1m40/40\u001b[0m \u001b[32m━━━━━━━━━━━━━━━━━━━━\u001b[0m\u001b[37m\u001b[0m \u001b[1m15s\u001b[0m 381ms/step - accuracy: 0.6923 - loss: 0.6121 - val_accuracy: 0.6567 - val_loss: 0.5976\n",
      "Epoch 2/10\n",
      "\u001b[1m40/40\u001b[0m \u001b[32m━━━━━━━━━━━━━━━━━━━━\u001b[0m\u001b[37m\u001b[0m \u001b[1m15s\u001b[0m 373ms/step - accuracy: 0.6882 - loss: 0.5922 - val_accuracy: 0.6716 - val_loss: 0.5899\n",
      "Epoch 3/10\n",
      "\u001b[1m40/40\u001b[0m \u001b[32m━━━━━━━━━━━━━━━━━━━━\u001b[0m\u001b[37m\u001b[0m \u001b[1m14s\u001b[0m 360ms/step - accuracy: 0.6745 - loss: 0.6043 - val_accuracy: 0.6567 - val_loss: 0.6328\n",
      "Epoch 4/10\n",
      "\u001b[1m40/40\u001b[0m \u001b[32m━━━━━━━━━━━━━━━━━━━━\u001b[0m\u001b[37m\u001b[0m \u001b[1m14s\u001b[0m 355ms/step - accuracy: 0.6992 - loss: 0.5961 - val_accuracy: 0.6368 - val_loss: 0.6301\n",
      "Epoch 5/10\n",
      "\u001b[1m40/40\u001b[0m \u001b[32m━━━━━━━━━━━━━━━━━━━━\u001b[0m\u001b[37m\u001b[0m \u001b[1m15s\u001b[0m 374ms/step - accuracy: 0.6766 - loss: 0.5806 - val_accuracy: 0.6965 - val_loss: 0.6132\n",
      "Epoch 6/10\n",
      "\u001b[1m40/40\u001b[0m \u001b[32m━━━━━━━━━━━━━━━━━━━━\u001b[0m\u001b[37m\u001b[0m \u001b[1m14s\u001b[0m 353ms/step - accuracy: 0.7475 - loss: 0.5594 - val_accuracy: 0.6517 - val_loss: 0.6030\n",
      "Epoch 7/10\n",
      "\u001b[1m40/40\u001b[0m \u001b[32m━━━━━━━━━━━━━━━━━━━━\u001b[0m\u001b[37m\u001b[0m \u001b[1m15s\u001b[0m 363ms/step - accuracy: 0.6936 - loss: 0.5769 - val_accuracy: 0.6617 - val_loss: 0.5911\n",
      "Epoch 8/10\n",
      "\u001b[1m40/40\u001b[0m \u001b[32m━━━━━━━━━━━━━━━━━━━━\u001b[0m\u001b[37m\u001b[0m \u001b[1m14s\u001b[0m 357ms/step - accuracy: 0.6572 - loss: 0.5989 - val_accuracy: 0.6020 - val_loss: 0.6359\n",
      "Epoch 9/10\n",
      "\u001b[1m40/40\u001b[0m \u001b[32m━━━━━━━━━━━━━━━━━━━━\u001b[0m\u001b[37m\u001b[0m \u001b[1m14s\u001b[0m 359ms/step - accuracy: 0.6711 - loss: 0.6085 - val_accuracy: 0.6965 - val_loss: 0.5795\n",
      "Epoch 10/10\n",
      "\u001b[1m40/40\u001b[0m \u001b[32m━━━━━━━━━━━━━━━━━━━━\u001b[0m\u001b[37m\u001b[0m \u001b[1m15s\u001b[0m 363ms/step - accuracy: 0.6862 - loss: 0.5752 - val_accuracy: 0.6468 - val_loss: 0.6142\n"
     ]
    }
   ],
   "source": [
    "history = model.fit(\n",
    "    train_generator,\n",
    "    epochs=10,\n",
    "    validation_data=test_generator,\n",
    "    callbacks=[checkpoint]\n",
    ")\n"
   ]
  },
  {
   "cell_type": "code",
   "execution_count": 41,
   "id": "c4e839c9-6cbb-4d0f-836a-afc8bca3baed",
   "metadata": {
    "execution": {
     "iopub.execute_input": "2024-12-04T10:12:27.174925Z",
     "iopub.status.busy": "2024-12-04T10:12:27.174594Z",
     "iopub.status.idle": "2024-12-04T10:12:27.179062Z",
     "shell.execute_reply": "2024-12-04T10:12:27.178522Z",
     "shell.execute_reply.started": "2024-12-04T10:12:27.174901Z"
    }
   },
   "outputs": [
    {
     "data": {
      "text/plain": [
       "<keras.src.callbacks.history.History at 0x7fc3dc247fb0>"
      ]
     },
     "execution_count": 41,
     "metadata": {},
     "output_type": "execute_result"
    }
   ],
   "source": [
    "history"
   ]
  },
  {
   "cell_type": "code",
   "execution_count": 42,
   "id": "935ea612-17c7-44a5-8fb8-04fdcc9a2ad1",
   "metadata": {
    "execution": {
     "iopub.execute_input": "2024-12-04T10:12:27.565163Z",
     "iopub.status.busy": "2024-12-04T10:12:27.564823Z",
     "iopub.status.idle": "2024-12-04T10:12:27.569233Z",
     "shell.execute_reply": "2024-12-04T10:12:27.568662Z",
     "shell.execute_reply.started": "2024-12-04T10:12:27.565140Z"
    }
   },
   "outputs": [
    {
     "data": {
      "text/plain": [
       "dict_items([('accuracy', [0.6862499713897705, 0.6700000166893005, 0.6812499761581421, 0.6600000262260437, 0.6800000071525574, 0.7074999809265137, 0.6850000023841858, 0.6725000143051147, 0.6899999976158142, 0.6625000238418579]), ('loss', [0.6052072644233704, 0.5982021689414978, 0.601817786693573, 0.6142834424972534, 0.5962433815002441, 0.5840916633605957, 0.578118085861206, 0.5926342606544495, 0.5926942229270935, 0.5917982459068298]), ('val_accuracy', [0.6567164063453674, 0.6716417670249939, 0.6567164063453674, 0.6368159055709839, 0.6965174078941345, 0.6517412662506104, 0.6616915464401245, 0.6019900441169739, 0.6965174078941345, 0.646766185760498]), ('val_loss', [0.597630500793457, 0.5899415016174316, 0.6328110694885254, 0.6300715804100037, 0.613237738609314, 0.603044867515564, 0.5910598039627075, 0.6358608603477478, 0.579459547996521, 0.6141744256019592])])"
      ]
     },
     "execution_count": 42,
     "metadata": {},
     "output_type": "execute_result"
    }
   ],
   "source": [
    "history.history.items()"
   ]
  },
  {
   "cell_type": "code",
   "execution_count": 43,
   "id": "5c269a3f-5748-41d3-a450-f5ce90d3ced3",
   "metadata": {
    "execution": {
     "iopub.execute_input": "2024-12-04T10:12:29.639527Z",
     "iopub.status.busy": "2024-12-04T10:12:29.639191Z",
     "iopub.status.idle": "2024-12-04T10:12:29.642696Z",
     "shell.execute_reply": "2024-12-04T10:12:29.642039Z",
     "shell.execute_reply.started": "2024-12-04T10:12:29.639501Z"
    }
   },
   "outputs": [],
   "source": [
    "loss_list = history.history['val_loss']"
   ]
  },
  {
   "cell_type": "code",
   "execution_count": 44,
   "id": "a5f5b7f8-876e-4215-b1b5-b55f3b4dfab4",
   "metadata": {
    "execution": {
     "iopub.execute_input": "2024-12-04T10:12:30.335371Z",
     "iopub.status.busy": "2024-12-04T10:12:30.334789Z",
     "iopub.status.idle": "2024-12-04T10:12:30.339689Z",
     "shell.execute_reply": "2024-12-04T10:12:30.339093Z",
     "shell.execute_reply.started": "2024-12-04T10:12:30.335343Z"
    }
   },
   "outputs": [
    {
     "data": {
      "text/plain": [
       "np.float64(0.6087291896343231)"
      ]
     },
     "execution_count": 44,
     "metadata": {},
     "output_type": "execute_result"
    }
   ],
   "source": [
    "np.mean(loss_list)"
   ]
  },
  {
   "cell_type": "code",
   "execution_count": 22,
   "id": "d0f32168-8348-4776-a847-8c78eb102c08",
   "metadata": {
    "execution": {
     "iopub.execute_input": "2024-12-04T09:49:20.835421Z",
     "iopub.status.busy": "2024-12-04T09:49:20.835104Z",
     "iopub.status.idle": "2024-12-04T09:49:20.865988Z",
     "shell.execute_reply": "2024-12-04T09:49:20.865519Z",
     "shell.execute_reply.started": "2024-12-04T09:49:20.835396Z"
    }
   },
   "outputs": [
    {
     "name": "stdout",
     "output_type": "stream",
     "text": [
      "Found 800 images belonging to 2 classes.\n",
      "Found 201 images belonging to 2 classes.\n"
     ]
    }
   ],
   "source": [
    "datagen = ImageDataGenerator(\n",
    "    rescale=1./255,\n",
    "    rotation_range=50,\n",
    "    width_shift_range=0.1,\n",
    "    height_shift_range=0.1,\n",
    "    zoom_range=0.1,\n",
    "    horizontal_flip=True,\n",
    "    fill_mode='nearest'\n",
    ")\n",
    "\n",
    "train_generator = datagen.flow_from_directory(\n",
    "    './data/train',\n",
    "    target_size=(200, 200),\n",
    "    batch_size=20,\n",
    "    class_mode='binary',\n",
    "    shuffle=True\n",
    ")\n",
    "\n",
    "test_generator = datagen.flow_from_directory(\n",
    "    './data/test',\n",
    "    target_size=(200, 200),\n",
    "    batch_size=20,\n",
    "    class_mode='binary',\n",
    "    shuffle=True\n",
    ")"
   ]
  },
  {
   "cell_type": "code",
   "execution_count": 46,
   "id": "dad084d4-402e-4a6d-ae16-80c3a449aa7f",
   "metadata": {
    "execution": {
     "iopub.execute_input": "2024-12-04T10:13:17.759521Z",
     "iopub.status.busy": "2024-12-04T10:13:17.759194Z",
     "iopub.status.idle": "2024-12-04T10:13:18.211988Z",
     "shell.execute_reply": "2024-12-04T10:13:18.211460Z",
     "shell.execute_reply.started": "2024-12-04T10:13:17.759497Z"
    }
   },
   "outputs": [],
   "source": [
    "model = keras.models.load_model('model_05_0.697.keras')"
   ]
  },
  {
   "cell_type": "code",
   "execution_count": 47,
   "id": "d7061217-cb45-43ff-864f-d908fdcff501",
   "metadata": {
    "execution": {
     "iopub.execute_input": "2024-12-04T10:13:36.684729Z",
     "iopub.status.busy": "2024-12-04T10:13:36.684391Z",
     "iopub.status.idle": "2024-12-04T10:16:01.451758Z",
     "shell.execute_reply": "2024-12-04T10:16:01.451098Z",
     "shell.execute_reply.started": "2024-12-04T10:13:36.684706Z"
    }
   },
   "outputs": [
    {
     "name": "stdout",
     "output_type": "stream",
     "text": [
      "Epoch 1/10\n",
      "\u001b[1m40/40\u001b[0m \u001b[32m━━━━━━━━━━━━━━━━━━━━\u001b[0m\u001b[37m\u001b[0m \u001b[1m15s\u001b[0m 367ms/step - accuracy: 0.6837 - loss: 0.5909 - val_accuracy: 0.6169 - val_loss: 0.6505\n",
      "Epoch 2/10\n",
      "\u001b[1m40/40\u001b[0m \u001b[32m━━━━━━━━━━━━━━━━━━━━\u001b[0m\u001b[37m\u001b[0m \u001b[1m14s\u001b[0m 355ms/step - accuracy: 0.6828 - loss: 0.5962 - val_accuracy: 0.6468 - val_loss: 0.6106\n",
      "Epoch 3/10\n",
      "\u001b[1m40/40\u001b[0m \u001b[32m━━━━━━━━━━━━━━━━━━━━\u001b[0m\u001b[37m\u001b[0m \u001b[1m15s\u001b[0m 367ms/step - accuracy: 0.6541 - loss: 0.6172 - val_accuracy: 0.7463 - val_loss: 0.5758\n",
      "Epoch 4/10\n",
      "\u001b[1m40/40\u001b[0m \u001b[32m━━━━━━━━━━━━━━━━━━━━\u001b[0m\u001b[37m\u001b[0m \u001b[1m14s\u001b[0m 354ms/step - accuracy: 0.6860 - loss: 0.5925 - val_accuracy: 0.6617 - val_loss: 0.6067\n",
      "Epoch 5/10\n",
      "\u001b[1m40/40\u001b[0m \u001b[32m━━━━━━━━━━━━━━━━━━━━\u001b[0m\u001b[37m\u001b[0m \u001b[1m14s\u001b[0m 351ms/step - accuracy: 0.6842 - loss: 0.5856 - val_accuracy: 0.6866 - val_loss: 0.5887\n",
      "Epoch 6/10\n",
      "\u001b[1m40/40\u001b[0m \u001b[32m━━━━━━━━━━━━━━━━━━━━\u001b[0m\u001b[37m\u001b[0m \u001b[1m14s\u001b[0m 358ms/step - accuracy: 0.6895 - loss: 0.5818 - val_accuracy: 0.7015 - val_loss: 0.5723\n",
      "Epoch 7/10\n",
      "\u001b[1m40/40\u001b[0m \u001b[32m━━━━━━━━━━━━━━━━━━━━\u001b[0m\u001b[37m\u001b[0m \u001b[1m14s\u001b[0m 356ms/step - accuracy: 0.6666 - loss: 0.5807 - val_accuracy: 0.6517 - val_loss: 0.6187\n",
      "Epoch 8/10\n",
      "\u001b[1m40/40\u001b[0m \u001b[32m━━━━━━━━━━━━━━━━━━━━\u001b[0m\u001b[37m\u001b[0m \u001b[1m14s\u001b[0m 356ms/step - accuracy: 0.7034 - loss: 0.5743 - val_accuracy: 0.6567 - val_loss: 0.5874\n",
      "Epoch 9/10\n",
      "\u001b[1m40/40\u001b[0m \u001b[32m━━━━━━━━━━━━━━━━━━━━\u001b[0m\u001b[37m\u001b[0m \u001b[1m14s\u001b[0m 357ms/step - accuracy: 0.7078 - loss: 0.5686 - val_accuracy: 0.6816 - val_loss: 0.5819\n",
      "Epoch 10/10\n",
      "\u001b[1m40/40\u001b[0m \u001b[32m━━━━━━━━━━━━━━━━━━━━\u001b[0m\u001b[37m\u001b[0m \u001b[1m14s\u001b[0m 358ms/step - accuracy: 0.7143 - loss: 0.5592 - val_accuracy: 0.6617 - val_loss: 0.6047\n"
     ]
    }
   ],
   "source": [
    "history = model.fit(\n",
    "    train_generator,\n",
    "    epochs=10,\n",
    "    validation_data=test_generator,\n",
    "    callbacks=[checkpoint]\n",
    ")"
   ]
  },
  {
   "cell_type": "code",
   "execution_count": 49,
   "id": "71b9b2bc-0bc2-4671-a7ce-169e3541f8c1",
   "metadata": {
    "execution": {
     "iopub.execute_input": "2024-12-04T10:16:32.414558Z",
     "iopub.status.busy": "2024-12-04T10:16:32.414209Z",
     "iopub.status.idle": "2024-12-04T10:16:32.417800Z",
     "shell.execute_reply": "2024-12-04T10:16:32.417112Z",
     "shell.execute_reply.started": "2024-12-04T10:16:32.414534Z"
    }
   },
   "outputs": [],
   "source": [
    "loss = history.history['val_loss']"
   ]
  },
  {
   "cell_type": "code",
   "execution_count": 50,
   "id": "d619990c-a788-499d-b25e-e0ae2fa0cf94",
   "metadata": {
    "execution": {
     "iopub.execute_input": "2024-12-04T10:16:39.934603Z",
     "iopub.status.busy": "2024-12-04T10:16:39.934266Z",
     "iopub.status.idle": "2024-12-04T10:16:39.938986Z",
     "shell.execute_reply": "2024-12-04T10:16:39.938380Z",
     "shell.execute_reply.started": "2024-12-04T10:16:39.934581Z"
    }
   },
   "outputs": [
    {
     "data": {
      "text/plain": [
       "np.float64(0.5997341871261597)"
      ]
     },
     "execution_count": 50,
     "metadata": {},
     "output_type": "execute_result"
    }
   ],
   "source": [
    "np.mean(loss)"
   ]
  },
  {
   "cell_type": "code",
   "execution_count": 52,
   "id": "3e20861f-3ea4-4f19-9707-c22b3c080d88",
   "metadata": {
    "execution": {
     "iopub.execute_input": "2024-12-04T10:18:35.329774Z",
     "iopub.status.busy": "2024-12-04T10:18:35.329393Z",
     "iopub.status.idle": "2024-12-04T10:18:35.332786Z",
     "shell.execute_reply": "2024-12-04T10:18:35.332226Z",
     "shell.execute_reply.started": "2024-12-04T10:18:35.329749Z"
    }
   },
   "outputs": [],
   "source": [
    "acc = history.history['val_accuracy']"
   ]
  },
  {
   "cell_type": "code",
   "execution_count": 53,
   "id": "0825055e-3647-42b6-81a3-ce855a5fa989",
   "metadata": {
    "execution": {
     "iopub.execute_input": "2024-12-04T10:18:41.771325Z",
     "iopub.status.busy": "2024-12-04T10:18:41.770978Z",
     "iopub.status.idle": "2024-12-04T10:18:41.775376Z",
     "shell.execute_reply": "2024-12-04T10:18:41.774820Z",
     "shell.execute_reply.started": "2024-12-04T10:18:41.771302Z"
    }
   },
   "outputs": [
    {
     "data": {
      "text/plain": [
       "np.float64(0.6711442768573761)"
      ]
     },
     "execution_count": 53,
     "metadata": {},
     "output_type": "execute_result"
    }
   ],
   "source": [
    "np.mean(acc)"
   ]
  },
  {
   "cell_type": "code",
   "execution_count": null,
   "id": "33f1eb3e-c0e8-43a2-988a-6e6b5391bb7f",
   "metadata": {},
   "outputs": [],
   "source": []
  }
 ],
 "metadata": {
  "kernelspec": {
   "display_name": "saturn (Python 3)",
   "language": "python",
   "name": "python3"
  },
  "language_info": {
   "codemirror_mode": {
    "name": "ipython",
    "version": 3
   },
   "file_extension": ".py",
   "mimetype": "text/x-python",
   "name": "python",
   "nbconvert_exporter": "python",
   "pygments_lexer": "ipython3",
   "version": "3.12.7"
  }
 },
 "nbformat": 4,
 "nbformat_minor": 5
}
